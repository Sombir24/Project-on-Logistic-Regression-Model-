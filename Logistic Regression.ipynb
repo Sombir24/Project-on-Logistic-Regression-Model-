{
 "cells": [
  {
   "cell_type": "markdown",
   "metadata": {
    "id": "SSa3eoPTH2VR"
   },
   "source": [
    "#**Rotten Tomatoes Movies Rating Prediction**\n",
    "\n",
    "**Assignment**\n",
    "\n",
    "In this project, you are given large datasets from Rotten Tomatoes - a popular online review aggregator for film and television. Your task is to build a high performing classification algorithm to predict whether a particular movie on Rotten Tomatoes is labeled as 'Rotten', 'Fresh', or 'Certified-Fresh'."
   ]
  },
  {
   "cell_type": "markdown",
   "metadata": {
    "id": "vzrbWKGJIFea"
   },
   "source": [
    "## |**Data Description**\n",
    "\n",
    "**There are 2 datasets**\n",
    "\n",
    "1. rotten_tomatoes_movies.csv - contains basic information about each movie listed on Rotten Tomatoes; each row represents one movie;\n",
    "2. rotten_tomatoes_critic_reviews_50k.tsv - contains 50.000 individual reviews by Rotten Tomatoes critics; each row represents one review corresponding to a movie;\n",
    "\n",
    "rotten_tomatoes_movies dataset contains the following columns:\n",
    "\n",
    "- rotten_tomatoes_link - movie ID\n",
    "- movie_title - title of the movie as displayed on the Rotten Tomatoes website\n",
    "- movie_info - brief description of the movie\n",
    "- critics_consensus - comment from Rotten Tomatoes\n",
    "- content_rating - category based on the movie suitability for audience\n",
    "- genres - movie genres separated by commes, if multiple\n",
    "- directors - name of director(s)\n",
    "- authors - name of author(s)\n",
    "- actors - name of actors\n",
    "- original_release_date - date in which the movie has been released in  \n",
    "   theatres, in YYY-MM-DD format\n",
    "- streaming_release_date - date in which the movie has been released on\n",
    "   streaming platforms, in YYY-MM-DD format\n",
    "- runtime - duration of the movie in minutes\n",
    "- production_company - name of a studio/company that produced the movie\n",
    "- tomatometer_status - a label assgined by Rotten Tomatoes: \"Fresh\",\n",
    "- \"Certified-Fresh\" or \"Rotten\"; this is the target variables in this challenge\n",
    "- tomatometer_rating - percentage of positive critic ratings\n",
    "- tomatometer_count - critic ratings counted for the calculation of the\n",
    "   tomatomer status\n",
    "- audience_status - a label assgined based on user ratings: \"Spilled\" or \"Upright\"\n",
    "- audience_rating - percentage of positive user ratings\n",
    "- audience_count - user ratings counted for the calculation of the audience\n",
    "   status\n",
    "- tomatometer_top_critics_count - number of ratings by top critics\n",
    "- tomatometer_fresh_critics_count - number of critic ratings labeled \"Fresh\"\n",
    "- tomatometer_rotten_critics_count - - number of critic ratings labeled \"Rotten\"\n",
    "\n",
    "\n",
    "rotten_tomatoes_critic_reviews_50k dataset contains the following columns:\n",
    "\n",
    "- rotten_tomatoes_link - movie ID\n",
    "- critic_name - name of critic who rated the movie\n",
    "- top_critic - boolean value that clarifies whether the critic is a top critic or not\n",
    "- publisher_name - name of the publisher for which the critic works\n",
    "- review_type - was the review labeled \"Fresh\" or \"Rotten\"?\n",
    "- review_score - review score provided by the critic\n",
    "- review_date - date of the review in YYYY-MM-DD format\n",
    "- review_content - text of the review"
   ]
  },
  {
   "cell_type": "markdown",
   "metadata": {
    "id": "lp3fjBnzIFP0"
   },
   "source": [
    "## **Practicalities**\n",
    "\n",
    "Define, train and evaluate a predictive model that takes as the input the data provided. You may want to split the data into training, testing and validation sets, according to your discretion. Do not use external data for this project. You may use any algorithm of your choice or compare multiple models.\n",
    "\n",
    "Make sure that the solution reflects your entire thought process - it is more important how the code is structured rather than the final metrics. You are expected to spend no more than 3 hours working on this project.\n",
    "\n",
    "#### To download the dataset <a href=\"https://drive.google.com/drive/folders/1gfJwHeushdTfOeval0vceu0k1wOQ0kSv?usp=sharing\"> Click here </a>"
   ]
  },
  {
   "cell_type": "code",
   "execution_count": 47,
   "metadata": {},
   "outputs": [],
   "source": [
    "#Import the necessary library \n",
    "import pandas as pd \n",
    "import numpy as np "
   ]
  },
  {
   "cell_type": "code",
   "execution_count": 48,
   "metadata": {},
   "outputs": [],
   "source": [
    "movie_df = pd.read_csv(\"rotten_tomatoes_movies.csv\")\n",
    "review_df = pd.read_csv(\"rotten_tomatoes_critic_reviews_50k.csv\")"
   ]
  },
  {
   "cell_type": "code",
   "execution_count": 49,
   "metadata": {},
   "outputs": [
    {
     "data": {
      "text/html": [
       "<div>\n",
       "<style scoped>\n",
       "    .dataframe tbody tr th:only-of-type {\n",
       "        vertical-align: middle;\n",
       "    }\n",
       "\n",
       "    .dataframe tbody tr th {\n",
       "        vertical-align: top;\n",
       "    }\n",
       "\n",
       "    .dataframe thead th {\n",
       "        text-align: right;\n",
       "    }\n",
       "</style>\n",
       "<table border=\"1\" class=\"dataframe\">\n",
       "  <thead>\n",
       "    <tr style=\"text-align: right;\">\n",
       "      <th></th>\n",
       "      <th>rotten_tomatoes_link</th>\n",
       "      <th>movie_title</th>\n",
       "      <th>movie_info</th>\n",
       "      <th>critics_consensus</th>\n",
       "      <th>content_rating</th>\n",
       "      <th>genres</th>\n",
       "      <th>directors</th>\n",
       "      <th>authors</th>\n",
       "      <th>actors</th>\n",
       "      <th>original_release_date</th>\n",
       "      <th>...</th>\n",
       "      <th>production_company</th>\n",
       "      <th>tomatometer_status</th>\n",
       "      <th>tomatometer_rating</th>\n",
       "      <th>tomatometer_count</th>\n",
       "      <th>audience_status</th>\n",
       "      <th>audience_rating</th>\n",
       "      <th>audience_count</th>\n",
       "      <th>tomatometer_top_critics_count</th>\n",
       "      <th>tomatometer_fresh_critics_count</th>\n",
       "      <th>tomatometer_rotten_critics_count</th>\n",
       "    </tr>\n",
       "  </thead>\n",
       "  <tbody>\n",
       "    <tr>\n",
       "      <th>0</th>\n",
       "      <td>m/0814255</td>\n",
       "      <td>Percy Jackson &amp; the Olympians: The Lightning T...</td>\n",
       "      <td>Always trouble-prone, the life of teenager Per...</td>\n",
       "      <td>Though it may seem like just another Harry Pot...</td>\n",
       "      <td>PG</td>\n",
       "      <td>Action &amp; Adventure, Comedy, Drama, Science Fic...</td>\n",
       "      <td>Chris Columbus</td>\n",
       "      <td>Craig Titley, Chris Columbus, Rick Riordan</td>\n",
       "      <td>Logan Lerman, Brandon T. Jackson, Alexandra Da...</td>\n",
       "      <td>2010-02-12</td>\n",
       "      <td>...</td>\n",
       "      <td>20th Century Fox</td>\n",
       "      <td>Rotten</td>\n",
       "      <td>49.0</td>\n",
       "      <td>149.0</td>\n",
       "      <td>Spilled</td>\n",
       "      <td>53.0</td>\n",
       "      <td>254421.0</td>\n",
       "      <td>43</td>\n",
       "      <td>73</td>\n",
       "      <td>76</td>\n",
       "    </tr>\n",
       "    <tr>\n",
       "      <th>1</th>\n",
       "      <td>m/0878835</td>\n",
       "      <td>Please Give</td>\n",
       "      <td>Kate (Catherine Keener) and her husband Alex (...</td>\n",
       "      <td>Nicole Holofcener's newest might seem slight i...</td>\n",
       "      <td>R</td>\n",
       "      <td>Comedy</td>\n",
       "      <td>Nicole Holofcener</td>\n",
       "      <td>Nicole Holofcener</td>\n",
       "      <td>Catherine Keener, Amanda Peet, Oliver Platt, R...</td>\n",
       "      <td>2010-04-30</td>\n",
       "      <td>...</td>\n",
       "      <td>Sony Pictures Classics</td>\n",
       "      <td>Certified-Fresh</td>\n",
       "      <td>87.0</td>\n",
       "      <td>142.0</td>\n",
       "      <td>Upright</td>\n",
       "      <td>64.0</td>\n",
       "      <td>11574.0</td>\n",
       "      <td>44</td>\n",
       "      <td>123</td>\n",
       "      <td>19</td>\n",
       "    </tr>\n",
       "  </tbody>\n",
       "</table>\n",
       "<p>2 rows × 22 columns</p>\n",
       "</div>"
      ],
      "text/plain": [
       "  rotten_tomatoes_link                                        movie_title  \\\n",
       "0            m/0814255  Percy Jackson & the Olympians: The Lightning T...   \n",
       "1            m/0878835                                        Please Give   \n",
       "\n",
       "                                          movie_info  \\\n",
       "0  Always trouble-prone, the life of teenager Per...   \n",
       "1  Kate (Catherine Keener) and her husband Alex (...   \n",
       "\n",
       "                                   critics_consensus content_rating  \\\n",
       "0  Though it may seem like just another Harry Pot...             PG   \n",
       "1  Nicole Holofcener's newest might seem slight i...              R   \n",
       "\n",
       "                                              genres          directors  \\\n",
       "0  Action & Adventure, Comedy, Drama, Science Fic...     Chris Columbus   \n",
       "1                                             Comedy  Nicole Holofcener   \n",
       "\n",
       "                                      authors  \\\n",
       "0  Craig Titley, Chris Columbus, Rick Riordan   \n",
       "1                           Nicole Holofcener   \n",
       "\n",
       "                                              actors original_release_date  \\\n",
       "0  Logan Lerman, Brandon T. Jackson, Alexandra Da...            2010-02-12   \n",
       "1  Catherine Keener, Amanda Peet, Oliver Platt, R...            2010-04-30   \n",
       "\n",
       "   ...      production_company  tomatometer_status tomatometer_rating  \\\n",
       "0  ...        20th Century Fox              Rotten               49.0   \n",
       "1  ...  Sony Pictures Classics     Certified-Fresh               87.0   \n",
       "\n",
       "  tomatometer_count  audience_status  audience_rating audience_count  \\\n",
       "0             149.0          Spilled             53.0       254421.0   \n",
       "1             142.0          Upright             64.0        11574.0   \n",
       "\n",
       "   tomatometer_top_critics_count  tomatometer_fresh_critics_count  \\\n",
       "0                             43                               73   \n",
       "1                             44                              123   \n",
       "\n",
       "   tomatometer_rotten_critics_count  \n",
       "0                                76  \n",
       "1                                19  \n",
       "\n",
       "[2 rows x 22 columns]"
      ]
     },
     "execution_count": 49,
     "metadata": {},
     "output_type": "execute_result"
    }
   ],
   "source": [
    "movie_df.head(2)"
   ]
  },
  {
   "cell_type": "code",
   "execution_count": 50,
   "metadata": {
    "scrolled": true
   },
   "outputs": [
    {
     "data": {
      "text/html": [
       "<div>\n",
       "<style scoped>\n",
       "    .dataframe tbody tr th:only-of-type {\n",
       "        vertical-align: middle;\n",
       "    }\n",
       "\n",
       "    .dataframe tbody tr th {\n",
       "        vertical-align: top;\n",
       "    }\n",
       "\n",
       "    .dataframe thead th {\n",
       "        text-align: right;\n",
       "    }\n",
       "</style>\n",
       "<table border=\"1\" class=\"dataframe\">\n",
       "  <thead>\n",
       "    <tr style=\"text-align: right;\">\n",
       "      <th></th>\n",
       "      <th>rotten_tomatoes_link</th>\n",
       "      <th>critic_name</th>\n",
       "      <th>top_critic</th>\n",
       "      <th>publisher_name</th>\n",
       "      <th>review_type</th>\n",
       "      <th>review_score</th>\n",
       "      <th>review_date</th>\n",
       "      <th>review_content</th>\n",
       "    </tr>\n",
       "  </thead>\n",
       "  <tbody>\n",
       "    <tr>\n",
       "      <th>0</th>\n",
       "      <td>m/0814255</td>\n",
       "      <td>Andrew L. Urban</td>\n",
       "      <td>False</td>\n",
       "      <td>Urban Cinefile</td>\n",
       "      <td>Fresh</td>\n",
       "      <td>NaN</td>\n",
       "      <td>2010-02-06</td>\n",
       "      <td>A fantasy adventure that fuses Greek mythology...</td>\n",
       "    </tr>\n",
       "    <tr>\n",
       "      <th>1</th>\n",
       "      <td>m/0814255</td>\n",
       "      <td>Louise Keller</td>\n",
       "      <td>False</td>\n",
       "      <td>Urban Cinefile</td>\n",
       "      <td>Fresh</td>\n",
       "      <td>NaN</td>\n",
       "      <td>2010-02-06</td>\n",
       "      <td>Uma Thurman as Medusa, the gorgon with a coiff...</td>\n",
       "    </tr>\n",
       "  </tbody>\n",
       "</table>\n",
       "</div>"
      ],
      "text/plain": [
       "  rotten_tomatoes_link      critic_name  top_critic  publisher_name  \\\n",
       "0            m/0814255  Andrew L. Urban       False  Urban Cinefile   \n",
       "1            m/0814255    Louise Keller       False  Urban Cinefile   \n",
       "\n",
       "  review_type review_score review_date  \\\n",
       "0       Fresh          NaN  2010-02-06   \n",
       "1       Fresh          NaN  2010-02-06   \n",
       "\n",
       "                                      review_content  \n",
       "0  A fantasy adventure that fuses Greek mythology...  \n",
       "1  Uma Thurman as Medusa, the gorgon with a coiff...  "
      ]
     },
     "execution_count": 50,
     "metadata": {},
     "output_type": "execute_result"
    }
   ],
   "source": [
    "review_df.head(2)"
   ]
  },
  {
   "cell_type": "code",
   "execution_count": 51,
   "metadata": {},
   "outputs": [
    {
     "name": "stdout",
     "output_type": "stream",
     "text": [
      "<class 'pandas.core.frame.DataFrame'>\n",
      "RangeIndex: 17712 entries, 0 to 17711\n",
      "Data columns (total 22 columns):\n",
      " #   Column                            Non-Null Count  Dtype  \n",
      "---  ------                            --------------  -----  \n",
      " 0   rotten_tomatoes_link              17712 non-null  object \n",
      " 1   movie_title                       17712 non-null  object \n",
      " 2   movie_info                        17391 non-null  object \n",
      " 3   critics_consensus                 9134 non-null   object \n",
      " 4   content_rating                    17712 non-null  object \n",
      " 5   genres                            17693 non-null  object \n",
      " 6   directors                         17518 non-null  object \n",
      " 7   authors                           16170 non-null  object \n",
      " 8   actors                            17360 non-null  object \n",
      " 9   original_release_date             16546 non-null  object \n",
      " 10  streaming_release_date            17328 non-null  object \n",
      " 11  runtime                           17398 non-null  float64\n",
      " 12  production_company                17213 non-null  object \n",
      " 13  tomatometer_status                17668 non-null  object \n",
      " 14  tomatometer_rating                17668 non-null  float64\n",
      " 15  tomatometer_count                 17668 non-null  float64\n",
      " 16  audience_status                   17264 non-null  object \n",
      " 17  audience_rating                   17416 non-null  float64\n",
      " 18  audience_count                    17415 non-null  float64\n",
      " 19  tomatometer_top_critics_count     17712 non-null  int64  \n",
      " 20  tomatometer_fresh_critics_count   17712 non-null  int64  \n",
      " 21  tomatometer_rotten_critics_count  17712 non-null  int64  \n",
      "dtypes: float64(5), int64(3), object(14)\n",
      "memory usage: 3.0+ MB\n"
     ]
    }
   ],
   "source": [
    "movie_df.info()"
   ]
  },
  {
   "cell_type": "code",
   "execution_count": 52,
   "metadata": {},
   "outputs": [
    {
     "name": "stdout",
     "output_type": "stream",
     "text": [
      "<class 'pandas.core.frame.DataFrame'>\n",
      "RangeIndex: 50000 entries, 0 to 49999\n",
      "Data columns (total 8 columns):\n",
      " #   Column                Non-Null Count  Dtype \n",
      "---  ------                --------------  ----- \n",
      " 0   rotten_tomatoes_link  50000 non-null  object\n",
      " 1   critic_name           48068 non-null  object\n",
      " 2   top_critic            50000 non-null  bool  \n",
      " 3   publisher_name        50000 non-null  object\n",
      " 4   review_type           50000 non-null  object\n",
      " 5   review_score          36409 non-null  object\n",
      " 6   review_date           50000 non-null  object\n",
      " 7   review_content        41195 non-null  object\n",
      "dtypes: bool(1), object(7)\n",
      "memory usage: 2.7+ MB\n"
     ]
    }
   ],
   "source": [
    "review_df.info()"
   ]
  },
  {
   "cell_type": "code",
   "execution_count": 53,
   "metadata": {},
   "outputs": [],
   "source": [
    "#Convert the date columns to datetime format \n",
    "movie_df['original_release_date']= pd.to_datetime(movie_df['original_release_date'], errors= 'coerce')\n",
    "movie_df['streaming_release_date']= pd.to_datetime(movie_df['streaming_release_date'], errors= 'coerce')\n",
    "review_df['review_date']= pd.to_datetime(review_df['review_date'], errors= 'coerce')"
   ]
  },
  {
   "cell_type": "code",
   "execution_count": 54,
   "metadata": {},
   "outputs": [],
   "source": [
    "# Replace empty strings or whitespace with NaN in 'review_score'\n",
    "review_df['review_score'].replace(r'^\\s*$', np.nan, regex=True, inplace=True)\n",
    "\n",
    "# Convert 'review_score' to numeric, handling errors by coercing to NaN\n",
    "review_df['review_score'] = pd.to_numeric(review_df['review_score'], errors='coerce')\n",
    "\n",
    "# Handle missing values in 'review_score' by filling NaNs with the mean\n",
    "review_df['review_score'].fillna(review_df['review_score'].mean(), inplace=True)\n"
   ]
  },
  {
   "cell_type": "code",
   "execution_count": 55,
   "metadata": {},
   "outputs": [],
   "source": [
    "# Convert numeric columns and handle errors by coercing them to NaN\n",
    "numeric_columns = ['runtime', 'tomatometer_rating', 'tomatometer_count', \n",
    "                   'audience_rating', 'audience_count']\n",
    "\n",
    "for col in numeric_columns:\n",
    "    movie_df[col] = pd.to_numeric(movie_df[col], errors='coerce')\n",
    "\n",
    "# Handle missing values - fill NaN with mean values for numeric columns\n",
    "for col in numeric_columns:\n",
    "    movie_df[col].fillna(movie_df[col].mean(), inplace=True)\n",
    "\n",
    "# Handling categorical columns (optional - dropping rows or filling NaN)\n",
    "movie_df['tomatometer_status'].fillna(movie_df['tomatometer_status'].mode()[0], inplace=True)"
   ]
  },
  {
   "cell_type": "code",
   "execution_count": 56,
   "metadata": {},
   "outputs": [],
   "source": [
    "from sklearn.preprocessing import LabelEncoder, OneHotEncoder\n",
    "# Encode target variable 'tomatometer_status' in movies_df\n",
    "label_encoder = LabelEncoder()\n",
    "movie_df['tomatometer_status_encoded'] = label_encoder.fit_transform(movie_df['tomatometer_status'])\n",
    "\n",
    "# Encode other categorical variables in movies_df\n",
    "movie_df['content_rating_encoded'] = label_encoder.fit_transform(movie_df['content_rating'])\n",
    "movie_df['genres_encoded'] = label_encoder.fit_transform(movie_df['genres'])\n",
    "movie_df['directors_encoded'] = label_encoder.fit_transform(movie_df['directors'])\n",
    "movie_df['audience_status_encoded'] = label_encoder.fit_transform(movie_df['audience_status'])\n",
    "\n",
    "# Encode categorical variables in reviews_df\n",
    "review_df['review_type_encoded'] = label_encoder.fit_transform(review_df['review_type'])\n",
    "review_df['publisher_name_encoded'] = label_encoder.fit_transform(review_df['publisher_name'])\n"
   ]
  },
  {
   "cell_type": "code",
   "execution_count": 57,
   "metadata": {},
   "outputs": [],
   "source": [
    "# Merge the movies_df and reviews_df on 'rotten_tomatoes_link'\n",
    "merged_df = pd.merge(movie_df, review_df, on='rotten_tomatoes_link')"
   ]
  },
  {
   "cell_type": "code",
   "execution_count": 58,
   "metadata": {},
   "outputs": [],
   "source": [
    "# Select features and target variable for the model\n",
    "X = merged_df[['runtime', 'tomatometer_rating', 'tomatometer_count', \n",
    "               'audience_rating', 'audience_count', \n",
    "               'tomatometer_top_critics_count', 'tomatometer_fresh_critics_count', \n",
    "               'tomatometer_rotten_critics_count', 'content_rating_encoded', \n",
    "               'genres_encoded', 'directors_encoded', 'audience_status_encoded', \n",
    "               'review_score', 'review_type_encoded', 'publisher_name_encoded']]\n",
    "\n",
    "y = merged_df['tomatometer_status_encoded']"
   ]
  },
  {
   "cell_type": "code",
   "execution_count": 59,
   "metadata": {},
   "outputs": [],
   "source": [
    "from sklearn.model_selection import train_test_split\n",
    "# Split the data into training and testing sets\n",
    "X_train, X_test, y_train, y_test = train_test_split(X, y, test_size=0.2, random_state=42)"
   ]
  },
  {
   "cell_type": "code",
   "execution_count": 60,
   "metadata": {},
   "outputs": [
    {
     "data": {
      "text/html": [
       "<style>#sk-container-id-2 {color: black;}#sk-container-id-2 pre{padding: 0;}#sk-container-id-2 div.sk-toggleable {background-color: white;}#sk-container-id-2 label.sk-toggleable__label {cursor: pointer;display: block;width: 100%;margin-bottom: 0;padding: 0.3em;box-sizing: border-box;text-align: center;}#sk-container-id-2 label.sk-toggleable__label-arrow:before {content: \"▸\";float: left;margin-right: 0.25em;color: #696969;}#sk-container-id-2 label.sk-toggleable__label-arrow:hover:before {color: black;}#sk-container-id-2 div.sk-estimator:hover label.sk-toggleable__label-arrow:before {color: black;}#sk-container-id-2 div.sk-toggleable__content {max-height: 0;max-width: 0;overflow: hidden;text-align: left;background-color: #f0f8ff;}#sk-container-id-2 div.sk-toggleable__content pre {margin: 0.2em;color: black;border-radius: 0.25em;background-color: #f0f8ff;}#sk-container-id-2 input.sk-toggleable__control:checked~div.sk-toggleable__content {max-height: 200px;max-width: 100%;overflow: auto;}#sk-container-id-2 input.sk-toggleable__control:checked~label.sk-toggleable__label-arrow:before {content: \"▾\";}#sk-container-id-2 div.sk-estimator input.sk-toggleable__control:checked~label.sk-toggleable__label {background-color: #d4ebff;}#sk-container-id-2 div.sk-label input.sk-toggleable__control:checked~label.sk-toggleable__label {background-color: #d4ebff;}#sk-container-id-2 input.sk-hidden--visually {border: 0;clip: rect(1px 1px 1px 1px);clip: rect(1px, 1px, 1px, 1px);height: 1px;margin: -1px;overflow: hidden;padding: 0;position: absolute;width: 1px;}#sk-container-id-2 div.sk-estimator {font-family: monospace;background-color: #f0f8ff;border: 1px dotted black;border-radius: 0.25em;box-sizing: border-box;margin-bottom: 0.5em;}#sk-container-id-2 div.sk-estimator:hover {background-color: #d4ebff;}#sk-container-id-2 div.sk-parallel-item::after {content: \"\";width: 100%;border-bottom: 1px solid gray;flex-grow: 1;}#sk-container-id-2 div.sk-label:hover label.sk-toggleable__label {background-color: #d4ebff;}#sk-container-id-2 div.sk-serial::before {content: \"\";position: absolute;border-left: 1px solid gray;box-sizing: border-box;top: 0;bottom: 0;left: 50%;z-index: 0;}#sk-container-id-2 div.sk-serial {display: flex;flex-direction: column;align-items: center;background-color: white;padding-right: 0.2em;padding-left: 0.2em;position: relative;}#sk-container-id-2 div.sk-item {position: relative;z-index: 1;}#sk-container-id-2 div.sk-parallel {display: flex;align-items: stretch;justify-content: center;background-color: white;position: relative;}#sk-container-id-2 div.sk-item::before, #sk-container-id-2 div.sk-parallel-item::before {content: \"\";position: absolute;border-left: 1px solid gray;box-sizing: border-box;top: 0;bottom: 0;left: 50%;z-index: -1;}#sk-container-id-2 div.sk-parallel-item {display: flex;flex-direction: column;z-index: 1;position: relative;background-color: white;}#sk-container-id-2 div.sk-parallel-item:first-child::after {align-self: flex-end;width: 50%;}#sk-container-id-2 div.sk-parallel-item:last-child::after {align-self: flex-start;width: 50%;}#sk-container-id-2 div.sk-parallel-item:only-child::after {width: 0;}#sk-container-id-2 div.sk-dashed-wrapped {border: 1px dashed gray;margin: 0 0.4em 0.5em 0.4em;box-sizing: border-box;padding-bottom: 0.4em;background-color: white;}#sk-container-id-2 div.sk-label label {font-family: monospace;font-weight: bold;display: inline-block;line-height: 1.2em;}#sk-container-id-2 div.sk-label-container {text-align: center;}#sk-container-id-2 div.sk-container {/* jupyter's `normalize.less` sets `[hidden] { display: none; }` but bootstrap.min.css set `[hidden] { display: none !important; }` so we also need the `!important` here to be able to override the default hidden behavior on the sphinx rendered scikit-learn.org. See: https://github.com/scikit-learn/scikit-learn/issues/21755 */display: inline-block !important;position: relative;}#sk-container-id-2 div.sk-text-repr-fallback {display: none;}</style><div id=\"sk-container-id-2\" class=\"sk-top-container\"><div class=\"sk-text-repr-fallback\"><pre>RandomForestClassifier(random_state=42)</pre><b>In a Jupyter environment, please rerun this cell to show the HTML representation or trust the notebook. <br />On GitHub, the HTML representation is unable to render, please try loading this page with nbviewer.org.</b></div><div class=\"sk-container\" hidden><div class=\"sk-item\"><div class=\"sk-estimator sk-toggleable\"><input class=\"sk-toggleable__control sk-hidden--visually\" id=\"sk-estimator-id-2\" type=\"checkbox\" checked><label for=\"sk-estimator-id-2\" class=\"sk-toggleable__label sk-toggleable__label-arrow\">RandomForestClassifier</label><div class=\"sk-toggleable__content\"><pre>RandomForestClassifier(random_state=42)</pre></div></div></div></div></div>"
      ],
      "text/plain": [
       "RandomForestClassifier(random_state=42)"
      ]
     },
     "execution_count": 60,
     "metadata": {},
     "output_type": "execute_result"
    }
   ],
   "source": [
    "from sklearn.ensemble import RandomForestClassifier\n",
    "# Initialize the RandomForestClassifier\n",
    "model = RandomForestClassifier(random_state=42)\n",
    "\n",
    "# Train the model\n",
    "model.fit(X_train, y_train)"
   ]
  },
  {
   "cell_type": "code",
   "execution_count": 66,
   "metadata": {},
   "outputs": [
    {
     "name": "stdout",
     "output_type": "stream",
     "text": [
      "Classification Report:\n",
      "                     precision    recall  f1-score   support\n",
      "\n",
      "           1428 Elm       1.00      1.00      1.00      2750\n",
      "    1More Film Blog       1.00      1.00      1.00      2918\n",
      "2UE That Movie Show       1.00      1.00      1.00      4332\n",
      "\n",
      "           accuracy                           1.00     10000\n",
      "          macro avg       1.00      1.00      1.00     10000\n",
      "       weighted avg       1.00      1.00      1.00     10000\n",
      "\n",
      "Confusion Matrix:\n",
      "[[2750    0    0]\n",
      " [   0 2918    0]\n",
      " [   0    0 4332]]\n"
     ]
    },
    {
     "data": {
      "image/png": "[encoded data removed]",
      "text/plain": [
       "<Figure size 640x480 with 2 Axes>"
      ]
     },
     "metadata": {},
     "output_type": "display_data"
    }
   ],
   "source": [
    "# Assuming '3' corresponds to an invalid category, filter it out\n",
    "valid_labels = [0, 1, 2]  # Modify this based on valid labels\n",
    "\n",
    "# Filter y_train and y_test to remove invalid labels\n",
    "valid_indices_train = y_train.isin(valid_labels)\n",
    "valid_indices_test = y_test.isin(valid_labels)\n",
    "\n",
    "X_train_filtered = X_train[valid_indices_train]\n",
    "y_train_filtered = y_train[valid_indices_train]\n",
    "X_test_filtered = X_test[valid_indices_test]\n",
    "y_test_filtered = y_test[valid_indices_test]\n",
    "\n",
    "# Re-train the model on filtered data\n",
    "model.fit(X_train_filtered, y_train_filtered)\n",
    "\n",
    "# Predict and evaluate on the filtered test set\n",
    "y_pred_filtered = model.predict(X_test_filtered)\n",
    "\n",
    "# Generate classification report and confusion matrix\n",
    "class_report_filtered = classification_report(y_test_filtered, y_pred_filtered, target_names=label_encoder.classes_[:3])\n",
    "print(\"Classification Report:\")\n",
    "print(class_report_filtered)\n",
    "\n",
    "conf_matrix_filtered = confusion_matrix(y_test_filtered, y_pred_filtered)\n",
    "print(\"Confusion Matrix:\")\n",
    "print(conf_matrix_filtered)\n",
    "\n",
    "sns.heatmap(conf_matrix_filtered, annot= True, cmap= \"coolwarm\")\n",
    "plt.show()"
   ]
  },
  {
   "cell_type": "markdown",
   "metadata": {},
   "source": [
    "## Overview of the Model Performance"
   ]
  },
  {
   "cell_type": "markdown",
   "metadata": {},
   "source": [
    "The model used to classify movies on Rotten Tomatoes has demonstrated perfect performance metrics based on the classification report and confusion matrix. The key results include:\n",
    "\n",
    "Precision, Recall, and F1-Score: All these metrics are 1.00 for every class, indicating that the model makes no errors in prediction. This means that the model is highly accurate in identifying each class, without any false positives or false negatives.\n",
    "\n",
    "Accuracy: The model achieved 100% accuracy, correctly predicting the class for every sample in the test dataset.\n",
    "\n",
    "Confusion Matrix: The matrix is perfectly diagonal, showing that all predictions match the true labels without any misclassifications.\n",
    "\n",
    "Interpretation\n",
    "While these results suggest that the model is highly effective, the perfect scores may also raise concerns about overfitting or potential issues with the dataset, such as data leakage or a test set that closely resembles the training set. Therefore, it's important to further validate the model using techniques like cross-validation and testing on different datasets to ensure the model's generalizability to new, unseen data."
   ]
  },
  {
   "cell_type": "code",
   "execution_count": null,
   "metadata": {},
   "outputs": [],
   "source": []
  },
  {
   "cell_type": "code",
   "execution_count": null,
   "metadata": {},
   "outputs": [],
   "source": []
  }
 ],
 "metadata": {
  "colab": {
   "provenance": []
  },
  "kernelspec": {
   "display_name": "Python 3 (ipykernel)",
   "language": "python",
   "name": "python3"
  },
  "language_info": {
   "codemirror_mode": {
    "name": "ipython",
    "version": 3
   },
   "file_extension": ".py",
   "mimetype": "text/x-python",
   "name": "python",
   "nbconvert_exporter": "python",
   "pygments_lexer": "ipython3",
   "version": "3.11.5"
  }
 },
 "nbformat": 4,
 "nbformat_minor": 1
}
